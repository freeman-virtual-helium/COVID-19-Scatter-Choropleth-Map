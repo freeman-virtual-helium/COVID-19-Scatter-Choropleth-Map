{
 "cells": [
  {
   "cell_type": "code",
   "execution_count": 2,
   "metadata": {},
   "outputs": [
    {
     "data": {
      "text/plain": [
       "'https://plotly.com/~teobguan2020/5/'"
      ]
     },
     "execution_count": 2,
     "metadata": {},
     "output_type": "execute_result"
    }
   ],
   "source": [
    "import chart_studio\n",
    "import chart_studio.plotly as py\n",
    "chart_studio.tools.set_credentials_file(username='YOUR_USER_NAME', api_key='YOUR_API_KEY')\n",
    "\n",
    "import pandas as pd\n",
    "import plotly.graph_objects as go\n",
    "df = pd.read_csv(\"data/World/time_series_covid_19_confirmed.csv\")\n",
    "df.head()\n",
    "df = df.rename(columns= {\"Country/Region\" : \"Country\", \"Province/State\": \"Province\"})\n",
    "df.head()\n",
    "\n",
    "df['text'] = df['Country'] + \" \" + df[\"4/13/20\"].astype(str)\n",
    "fig = go.Figure(data = go.Scattergeo(\n",
    "    lon = df[\"Long\"],\n",
    "    lat = df[\"Lat\"],\n",
    "    text = df[\"text\"],\n",
    "    mode = \"markers\",\n",
    "    marker = dict(\n",
    "        size = 12,\n",
    "        opacity = 0.8,\n",
    "        reversescale = True,\n",
    "        autocolorscale = True,\n",
    "        symbol = 'square',\n",
    "        line = dict(\n",
    "            width = 1,\n",
    "            color = 'rgba(102, 102, 102)'\n",
    "        ),\n",
    "        cmin = 0,\n",
    "        color = df['4/13/20'],\n",
    "        cmax = df['4/13/20'].max(),\n",
    "        colorbar_title = \"COVID 19 Reported Cases\"\n",
    "    )\n",
    "))\n",
    "\n",
    "fig.update_layout(\n",
    "    title = \"COVID19 Confirmed Cases Around the World\",\n",
    "    geo = dict(\n",
    "        scope = \"world\",\n",
    "        showland = True,\n",
    "    )\n",
    ")\n",
    "\n",
    "py.plot(fig, filename = 'COVID-19-Scatterplot', auto_open=True)"
   ]
  },
  {
   "cell_type": "code",
   "execution_count": null,
   "metadata": {},
   "outputs": [],
   "source": []
  }
 ],
 "metadata": {
  "kernelspec": {
   "display_name": "Python 3",
   "language": "python",
   "name": "python3"
  },
  "language_info": {
   "codemirror_mode": {
    "name": "ipython",
    "version": 3
   },
   "file_extension": ".py",
   "mimetype": "text/x-python",
   "name": "python",
   "nbconvert_exporter": "python",
   "pygments_lexer": "ipython3",
   "version": "3.7.3"
  }
 },
 "nbformat": 4,
 "nbformat_minor": 4
}
